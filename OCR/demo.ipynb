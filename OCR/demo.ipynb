{
 "cells": [
  {
   "cell_type": "code",
   "execution_count": 8,
   "metadata": {
    "colab": {},
    "colab_type": "code",
    "id": "s-E716WnhfrI"
   },
   "outputs": [
    {
     "name": "stdout",
     "output_type": "stream",
     "text": [
      "model input parameters 32 100 20 1 512 256 67 25 TPS ResNet BiLSTM Attn\n",
      "loading pretrained model from OCR5.pth\n",
      "--------------------------------------------------------------------------------\n",
      "image_path               \tpredicted_labels         \tconfidence score\n",
      "--------------------------------------------------------------------------------\n",
      "demo_image/36두8971.jpg   \t16누9071                  \t0.7145\n",
      "demo_image/52주3108-1.jpg \t52주3108                  \t0.7555\n",
      "demo_image/88로7835.jpg   \t88로7835                  \t0.9777\n",
      "demo_image/296저5277.jpg  \t276가557                  \t0.1770\n",
      "demo_image/381마8947-1.jpg\t381자8947                 \t0.7853\n"
     ]
    }
   ],
   "source": [
    "!python3 demo.py \\\n",
    "--Transformation TPS --FeatureExtraction ResNet --SequenceModeling BiLSTM --Prediction Attn \\\n",
    "--batch_size 256 \\\n",
    "--image_folder demo_image/ \\\n",
    "--saved_model OCR5.pth"
   ]
  }
 ],
 "metadata": {
  "accelerator": "GPU",
  "colab": {
   "collapsed_sections": [],
   "include_colab_link": true,
   "name": "deep-text-recognition-benchmark.ipynb",
   "provenance": []
  },
  "kernelspec": {
   "display_name": "Python 3",
   "language": "python",
   "name": "python3"
  },
  "language_info": {
   "codemirror_mode": {
    "name": "ipython",
    "version": 3
   },
   "file_extension": ".py",
   "mimetype": "text/x-python",
   "name": "python",
   "nbconvert_exporter": "python",
   "pygments_lexer": "ipython3",
   "version": "3.8.8"
  }
 },
 "nbformat": 4,
 "nbformat_minor": 1
}
