{
  "nbformat": 4,
  "nbformat_minor": 0,
  "metadata": {
    "colab": {
      "name": "Untitled0.ipynb",
      "provenance": [],
      "mount_file_id": "152ZSXliUGUBBZLCHlyzNU5dCGpdeDTmH",
      "authorship_tag": "ABX9TyM+l0mNI3MII5UlcvtlC8j5",
      "include_colab_link": true
    },
    "kernelspec": {
      "name": "python3",
      "display_name": "Python 3"
    },
    "language_info": {
      "name": "python"
    }
  },
  "cells": [
    {
      "cell_type": "markdown",
      "metadata": {
        "id": "view-in-github",
        "colab_type": "text"
      },
      "source": [
        "<a href=\"https://colab.research.google.com/github/jkh3147/Graduate_Project/blob/main/Untitled0.ipynb\" target=\"_parent\"><img src=\"https://colab.research.google.com/assets/colab-badge.svg\" alt=\"Open In Colab\"/></a>"
      ]
    },
    {
      "cell_type": "code",
      "metadata": {
        "colab": {
          "base_uri": "https://localhost:8080/"
        },
        "id": "-brH3FJa9l8E",
        "outputId": "739c9e41-690f-4bc2-c437-c3531d412f0f"
      },
      "source": [
        "cat /proc/meminfo"
      ],
      "execution_count": 3,
      "outputs": [
        {
          "output_type": "stream",
          "text": [
            "MemTotal:       13305368 kB\n",
            "MemFree:        10612724 kB\n",
            "MemAvailable:   12504456 kB\n",
            "Buffers:           80060 kB\n",
            "Cached:          1953880 kB\n",
            "SwapCached:            0 kB\n",
            "Active:           974076 kB\n",
            "Inactive:        1481360 kB\n",
            "Active(anon):     392520 kB\n",
            "Inactive(anon):      428 kB\n",
            "Active(file):     581556 kB\n",
            "Inactive(file):  1480932 kB\n",
            "Unevictable:           0 kB\n",
            "Mlocked:               0 kB\n",
            "SwapTotal:             0 kB\n",
            "SwapFree:              0 kB\n",
            "Dirty:               636 kB\n",
            "Writeback:             0 kB\n",
            "AnonPages:        421448 kB\n",
            "Mapped:           267220 kB\n",
            "Shmem:              1140 kB\n",
            "KReclaimable:     141436 kB\n",
            "Slab:             187068 kB\n",
            "SReclaimable:     141436 kB\n",
            "SUnreclaim:        45632 kB\n",
            "KernelStack:        5776 kB\n",
            "PageTables:         6268 kB\n",
            "NFS_Unstable:          0 kB\n",
            "Bounce:                0 kB\n",
            "WritebackTmp:          0 kB\n",
            "CommitLimit:     6652684 kB\n",
            "Committed_AS:    3616348 kB\n",
            "VmallocTotal:   34359738367 kB\n",
            "VmallocUsed:        8280 kB\n",
            "VmallocChunk:          0 kB\n",
            "Percpu:             1400 kB\n",
            "AnonHugePages:         0 kB\n",
            "ShmemHugePages:        0 kB\n",
            "ShmemPmdMapped:        0 kB\n",
            "FileHugePages:         0 kB\n",
            "FilePmdMapped:         0 kB\n",
            "CmaTotal:              0 kB\n",
            "CmaFree:               0 kB\n",
            "HugePages_Total:       0\n",
            "HugePages_Free:        0\n",
            "HugePages_Rsvd:        0\n",
            "HugePages_Surp:        0\n",
            "Hugepagesize:       2048 kB\n",
            "Hugetlb:               0 kB\n",
            "DirectMap4k:      122056 kB\n",
            "DirectMap2M:     6168576 kB\n",
            "DirectMap1G:     9437184 kB\n"
          ],
          "name": "stdout"
        }
      ]
    },
    {
      "cell_type": "code",
      "metadata": {
        "colab": {
          "base_uri": "https://localhost:8080/"
        },
        "id": "0w-kBUFE-XVY",
        "outputId": "9be31ae2-aa78-47f4-cd3a-71f86c4da092"
      },
      "source": [
        "from google.colab import drive\n",
        "drive.mount('srcnn')"
      ],
      "execution_count": 4,
      "outputs": [
        {
          "output_type": "stream",
          "text": [
            "Mounted at srcnn\n"
          ],
          "name": "stdout"
        }
      ]
    },
    {
      "cell_type": "code",
      "metadata": {
        "id": "leU-4XH--oZ4"
      },
      "source": [
        "import torch\n",
        "import matplotlib\n",
        "import matplotlib.pyplot as plt\n",
        "import time\n",
        "import h5py\n",
        "import srcnn\n",
        "import torch.optim as optim\n",
        "import torch.nn as nn\n",
        "import numpy as np\n",
        "import math\n",
        "from torchvision.transforms import ToPILImage\n",
        "from torch.utils.data import DataLoader, Dataset\n",
        "from tqdm import tqdm\n",
        "from sklearn.model_selection import train_test_split\n",
        "from torchvision.utils import save_image\n",
        "%matplotlib inline\n",
        "\n",
        "import torch.nn as nn\n",
        "import torch.nn.functional as F\n",
        "import time\n",
        "\n",
        "device = torch.device('cuda' if torch.cuda.is_available() else 'cpu')"
      ],
      "execution_count": 5,
      "outputs": []
    },
    {
      "cell_type": "code",
      "metadata": {
        "colab": {
          "base_uri": "https://localhost:8080/"
        },
        "id": "n4TK9b9A_isk",
        "outputId": "96467ef1-ba65-40cb-9128-bd7b593ea139"
      },
      "source": [
        "cd /content"
      ],
      "execution_count": 11,
      "outputs": [
        {
          "output_type": "stream",
          "text": [
            "/content\n"
          ],
          "name": "stdout"
        }
      ]
    },
    {
      "cell_type": "code",
      "metadata": {
        "colab": {
          "base_uri": "https://localhost:8080/"
        },
        "id": "G0WEANqbASYR",
        "outputId": "322f8dc4-ba78-4c36-bca5-1cb0d82a6414"
      },
      "source": [
        "mkdir data"
      ],
      "execution_count": 12,
      "outputs": [
        {
          "output_type": "stream",
          "text": [
            "mkdir: cannot create directory ‘data’: File exists\n"
          ],
          "name": "stdout"
        }
      ]
    },
    {
      "cell_type": "code",
      "metadata": {
        "colab": {
          "base_uri": "https://localhost:8080/"
        },
        "id": "oNMWRbc5AxMq",
        "outputId": "909e0213-4ddc-48aa-a79f-b77ddaece4a1"
      },
      "source": [
        "!unzip /content/srcnn/MyDrive/data/input.zip"
      ],
      "execution_count": 27,
      "outputs": [
        {
          "output_type": "stream",
          "text": [
            "Archive:  /content/srcnn/MyDrive/data/input.zip\n",
            "   creating: bicubic_2x/\n",
            "  inflating: bicubic_2x/baby_GT.bmp  \n",
            "  inflating: bicubic_2x/bird_GT.bmp  \n",
            "  inflating: bicubic_2x/butterfly_GT.bmp  \n",
            "  inflating: bicubic_2x/head_GT.bmp  \n",
            "  inflating: bicubic_2x/woman_GT.bmp  \n",
            "   creating: Set5/\n",
            " extracting: Set5/baby.png           \n",
            " extracting: Set5/bird.png           \n",
            " extracting: Set5/butterfly.png      \n",
            " extracting: Set5/head.png           \n",
            "  inflating: Set5/woman.png          \n",
            "   creating: T91/\n",
            "  inflating: T91/t1.png              \n",
            " extracting: T91/t10.png             \n",
            " extracting: T91/t11.png             \n",
            "  inflating: T91/t12.png             \n",
            " extracting: T91/t13.png             \n",
            " extracting: T91/t14.png             \n",
            "  inflating: T91/t15.png             \n",
            " extracting: T91/t16.png             \n",
            " extracting: T91/t17.png             \n",
            " extracting: T91/t18.png             \n",
            " extracting: T91/t19.png             \n",
            " extracting: T91/t2.png              \n",
            "  inflating: T91/t20.png             \n",
            " extracting: T91/t21.png             \n",
            " extracting: T91/t22.png             \n",
            " extracting: T91/t23.png             \n",
            " extracting: T91/t24.png             \n",
            " extracting: T91/t25.png             \n",
            " extracting: T91/t26.png             \n",
            " extracting: T91/t27.png             \n",
            " extracting: T91/t28.png             \n",
            " extracting: T91/t29.png             \n",
            " extracting: T91/t3.png              \n",
            " extracting: T91/t30.png             \n",
            " extracting: T91/t31.png             \n",
            " extracting: T91/t32.png             \n",
            " extracting: T91/t33.png             \n",
            "  inflating: T91/t34.png             \n",
            "  inflating: T91/t35.png             \n",
            "  inflating: T91/t36.png             \n",
            " extracting: T91/t37.png             \n",
            " extracting: T91/t38.png             \n",
            " extracting: T91/t39.png             \n",
            " extracting: T91/t4.png              \n",
            " extracting: T91/t40.png             \n",
            "  inflating: T91/t42.png             \n",
            " extracting: T91/t43.png             \n",
            " extracting: T91/t44.png             \n",
            " extracting: T91/t45.png             \n",
            " extracting: T91/t46.png             \n",
            " extracting: T91/t47.png             \n",
            " extracting: T91/t48.png             \n",
            " extracting: T91/t49.png             \n",
            "  inflating: T91/t5.png              \n",
            " extracting: T91/t50.png             \n",
            " extracting: T91/t51.png             \n",
            " extracting: T91/t52.png             \n",
            "  inflating: T91/t53.png             \n",
            " extracting: T91/t54.png             \n",
            "  inflating: T91/t55.png             \n",
            "  inflating: T91/t56.png             \n",
            "  inflating: T91/t57.png             \n",
            " extracting: T91/t58.png             \n",
            " extracting: T91/t59.png             \n",
            " extracting: T91/t6.png              \n",
            "  inflating: T91/t60.png             \n",
            " extracting: T91/t61.png             \n",
            " extracting: T91/t62.png             \n",
            " extracting: T91/t63.png             \n",
            "  inflating: T91/t64.png             \n",
            "  inflating: T91/t65.png             \n",
            " extracting: T91/t66.png             \n",
            " extracting: T91/t7.png              \n",
            " extracting: T91/t8.png              \n",
            " extracting: T91/t9.png              \n",
            " extracting: T91/tt1.png             \n",
            " extracting: T91/tt10.png            \n",
            "  inflating: T91/tt12.png            \n",
            " extracting: T91/tt13.png            \n",
            "  inflating: T91/tt14.png            \n",
            " extracting: T91/tt15.png            \n",
            "  inflating: T91/tt16.png            \n",
            " extracting: T91/tt17.png            \n",
            "  inflating: T91/tt18.png            \n",
            "  inflating: T91/tt19.png            \n",
            "  inflating: T91/tt2.png             \n",
            " extracting: T91/tt20.png            \n",
            " extracting: T91/tt21.png            \n",
            " extracting: T91/tt22.png            \n",
            " extracting: T91/tt23.png            \n",
            "  inflating: T91/tt24.png            \n",
            " extracting: T91/tt25.png            \n",
            " extracting: T91/tt26.png            \n",
            " extracting: T91/tt27.png            \n",
            " extracting: T91/tt3.png             \n",
            " extracting: T91/tt4.png             \n",
            " extracting: T91/tt5.png             \n",
            " extracting: T91/tt6.png             \n",
            " extracting: T91/tt7.png             \n",
            " extracting: T91/tt8.png             \n",
            "  inflating: T91/tt9.png             \n",
            "  inflating: train_mscale.h5         \n"
          ],
          "name": "stdout"
        }
      ]
    },
    {
      "cell_type": "code",
      "metadata": {
        "id": "J564MpDEDpCE"
      },
      "source": [
        "# 입력 이미지 차원 설정하기\n",
        "input_h, input_w = 33, 33 # sub-image에 대한 크기\n",
        "out_h, out_w = 33, 33 # label인 high-resolution에 대한 크기"
      ],
      "execution_count": 28,
      "outputs": []
    },
    {
      "cell_type": "code",
      "metadata": {
        "id": "AwIZjdP8Duus"
      },
      "source": [
        "# sub-images와 label 읽어오기\n",
        "file = h5py.File('/content/srcnn/MyDrive/data/train_mscale.h5')\n",
        "in_train = file['data'][:] # train data\n",
        "out_train = file['label'][:] # train label\n",
        "file.close()\n",
        "\n",
        "# float32로 타입 변경\n",
        "in_train = in_train.astype('float32')\n",
        "out_train = out_train.astype('float32')"
      ],
      "execution_count": 32,
      "outputs": []
    },
    {
      "cell_type": "code",
      "metadata": {
        "colab": {
          "base_uri": "https://localhost:8080/"
        },
        "id": "d_ZznAA6EWKU",
        "outputId": "83a74484-376c-4e25-ae41-691a5b4784cd"
      },
      "source": [
        "\n",
        "# 0.75: 0.15 = train : val 분할\n",
        "(x_train, x_val, y_train, y_val) = train_test_split(in_train, out_train, test_size=0.25)\n",
        "print(x_train.shape[0])\n",
        "print(x_val.shape[0])"
      ],
      "execution_count": 33,
      "outputs": [
        {
          "output_type": "stream",
          "text": [
            "16368\n",
            "5456\n"
          ],
          "name": "stdout"
        }
      ]
    },
    {
      "cell_type": "code",
      "metadata": {
        "id": "rwUXDVFBEYxO"
      },
      "source": [
        "# 커스텀 데이터셋 생성하기\n",
        "class SRCNNDataset(Dataset):\n",
        "    def __init__(self, image_data, labels):\n",
        "        self.image_data = image_data\n",
        "        self.labels = labels\n",
        "\n",
        "    def __len__(self):\n",
        "        return (len(self.image_data))\n",
        "\n",
        "    def __getitem__(self, index):\n",
        "        image = self.image_data[index]\n",
        "        label = self.labels[index]\n",
        "        return (torch.tensor(image, dtype=torch.float),\n",
        "            torch.tensor(label, dtype=torch.float))"
      ],
      "execution_count": 34,
      "outputs": []
    },
    {
      "cell_type": "code",
      "metadata": {
        "id": "ntJMbhejEaGK"
      },
      "source": [
        "# 데이터셋 생성\n",
        "train_ds = SRCNNDataset(x_train, y_train)\n",
        "val_ds = SRCNNDataset(x_val, y_val)\n",
        "\n",
        "# 데이터로더 생성\n",
        "train_dl = DataLoader(train_ds, batch_size=64)\n",
        "val_dl = DataLoader(val_ds, batch_size=64)"
      ],
      "execution_count": 35,
      "outputs": []
    },
    {
      "cell_type": "code",
      "metadata": {
        "colab": {
          "base_uri": "https://localhost:8080/"
        },
        "id": "rThUE0PMEc_h",
        "outputId": "6a790347-eec8-48a2-a2c8-2b225e3131d1"
      },
      "source": [
        "# 데이터 체크\n",
        "for x, y in train_dl:\n",
        "    print(x.shape, y.shape)\n",
        "    break"
      ],
      "execution_count": 36,
      "outputs": [
        {
          "output_type": "stream",
          "text": [
            "torch.Size([64, 1, 33, 33]) torch.Size([64, 1, 33, 33])\n"
          ],
          "name": "stdout"
        }
      ]
    },
    {
      "cell_type": "code",
      "metadata": {
        "colab": {
          "base_uri": "https://localhost:8080/"
        },
        "id": "BckyoJ2tEg3o",
        "outputId": "1369e871-5472-4462-fa17-2c9a60f67420"
      },
      "source": [
        "# 데이터 시각화\n",
        "img = x[0]\n",
        "target = y[0]\n",
        "print(img.shape, target.shape)\n",
        "print(img.dtype)"
      ],
      "execution_count": 37,
      "outputs": [
        {
          "output_type": "stream",
          "text": [
            "torch.Size([1, 33, 33]) torch.Size([1, 33, 33])\n",
            "torch.float32\n"
          ],
          "name": "stdout"
        }
      ]
    },
    {
      "cell_type": "code",
      "metadata": {
        "colab": {
          "base_uri": "https://localhost:8080/",
          "height": 234
        },
        "id": "-nSm9TwvEi95",
        "outputId": "8361ccc0-e6e8-486b-d776-6465c14cab51"
      },
      "source": [
        "from torchvision.transforms.functional import to_pil_image\n",
        "\n",
        "plt.figure()\n",
        "plt.subplot(1,2,1)\n",
        "plt.imshow(to_pil_image(img), cmap='gray')\n",
        "plt.title('train')\n",
        "plt.subplot(1,2,2)\n",
        "plt.imshow(to_pil_image(target), cmap='gray')\n",
        "plt.title('target')"
      ],
      "execution_count": 38,
      "outputs": [
        {
          "output_type": "execute_result",
          "data": {
            "text/plain": [
              "Text(0.5, 1.0, 'target')"
            ]
          },
          "metadata": {
            "tags": []
          },
          "execution_count": 38
        },
        {
          "output_type": "display_data",
          "data": {
            "image/png": "[encoded data removed]",
            "text/plain": [
              "<Figure size 432x288 with 2 Axes>"
            ]
          },
          "metadata": {
            "tags": [],
            "needs_background": "light"
          }
        }
      ]
    },
    {
      "cell_type": "code",
      "metadata": {
        "id": "tPozr3T0EmSy"
      },
      "source": [
        "\n",
        "class SRCNN(nn.Module):\n",
        "    def __init__(self):\n",
        "        super().__init__()\n",
        "\n",
        "        # padding_mode='replicate'는 zero padding이 아닌, 주변 값을 복사해서 padding 합니다.\n",
        "        self.conv1 = nn.Conv2d(1, 64, 9, padding=2, padding_mode='replicate')\n",
        "        self.conv2 = nn.Conv2d(64, 32, 1, padding=2, padding_mode='replicate')\n",
        "        self.conv3 = nn.Conv2d(32, 1, 5, padding=2, padding_mode='replicate')\n",
        "\n",
        "    def forward(self, x):\n",
        "        x = F.relu(self.conv1(x))\n",
        "        x = F.relu(self.conv2(x))\n",
        "        x = self.conv3(x)\n",
        "\n",
        "        return x"
      ],
      "execution_count": 39,
      "outputs": []
    },
    {
      "cell_type": "code",
      "metadata": {
        "colab": {
          "base_uri": "https://localhost:8080/"
        },
        "id": "lb_hHbhmFKy5",
        "outputId": "365b754b-51a4-4467-8bbb-072de0be89c9"
      },
      "source": [
        "\n",
        "# check\n",
        "x = torch.randn(64,1,33,33).to(device)\n",
        "model = SRCNN().to(device)\n",
        "output = model(x)\n",
        "print(output.shape)"
      ],
      "execution_count": 40,
      "outputs": [
        {
          "output_type": "stream",
          "text": [
            "torch.Size([64, 1, 33, 33])\n"
          ],
          "name": "stdout"
        }
      ]
    },
    {
      "cell_type": "code",
      "metadata": {
        "id": "7bkLWJjsFNdR"
      },
      "source": [
        "# 가중치 초기화\n",
        "def initialize_weights(model):\n",
        "    classname = model.__class__.__name__\n",
        "    if classname.find('Conv') != -1:\n",
        "        nn.init.normal_(model.weight.data, 0.0, 0.02)\n",
        "\n",
        "model.apply(initialize_weights);"
      ],
      "execution_count": 41,
      "outputs": []
    },
    {
      "cell_type": "code",
      "metadata": {
        "id": "6eYgQEVyFRDH"
      },
      "source": [
        "# 손실함수\n",
        "loss_func = nn.MSELoss()\n",
        "\n",
        "# optimizer\n",
        "import torch.optim as optim\n",
        "optimizer = optim.Adam(model.parameters())"
      ],
      "execution_count": 42,
      "outputs": []
    },
    {
      "cell_type": "code",
      "metadata": {
        "id": "lxBdAAPPFR-v"
      },
      "source": [
        "# PSNR function: 모델의 출력값과 high-resoultion의 유사도를 측정합니다.\n",
        "# PSNR 값이 클수록 좋습니다.\n",
        "def psnr(label, outputs, max_val=1.):\n",
        "    label = label.cpu().detach().numpy()\n",
        "    outputs = outputs.cpu().detach().numpy()\n",
        "    img_diff = outputs - label\n",
        "    rmse = math.sqrt(np.mean((img_diff)**2))\n",
        "    if rmse == 0: # label과 output이 완전히 일치하는 경우\n",
        "        return 100\n",
        "    else:\n",
        "        psnr = 20 * math.log10(max_val/rmse)\n",
        "        return psnr"
      ],
      "execution_count": 43,
      "outputs": []
    },
    {
      "cell_type": "code",
      "metadata": {
        "id": "opbrAz1TFVYM"
      },
      "source": [
        "# train 함수\n",
        "def train(model, data_dl):\n",
        "    model.train()\n",
        "    running_loss = 0.0\n",
        "    running_psnr = 0.0\n",
        "\n",
        "    for ba, data in enumerate(data_dl):\n",
        "        image = data[0].to(device)\n",
        "        label = data[1].to(device)\n",
        "\n",
        "        optimizer.zero_grad()\n",
        "        outputs = model(image)\n",
        "        loss = loss_func(outputs, label)\n",
        "        loss.backward()\n",
        "        optimizer.step()\n",
        "\n",
        "        running_loss += loss.item()\n",
        "        batch_psnr = psnr(label, outputs)\n",
        "        running_psnr += batch_psnr\n",
        "    \n",
        "    final_loss = running_loss / len(data_dl.dataset)\n",
        "    final_psnr = running_psnr / int(len(train_ds)/data_dl.batch_size)\n",
        "    return final_loss, final_psnr"
      ],
      "execution_count": 44,
      "outputs": []
    },
    {
      "cell_type": "code",
      "metadata": {
        "id": "yRF8cIXtFX6K"
      },
      "source": [
        "# validation 함수\n",
        "def validate(model, data_dl, epoch):\n",
        "    # epoch는 이미지를 저장할때, 이미지의 이름으로 사용됩니다.\n",
        "    \n",
        "    model.eval()\n",
        "    running_loss = 0.0\n",
        "    running_psnr = 0.0\n",
        "    with torch.no_grad():\n",
        "        for ba, data in enumerate(data_dl):\n",
        "            image = data[0].to(device)\n",
        "            label = data[1].to(device)\n",
        "\n",
        "            outputs = model(image)\n",
        "            loss = loss_func(outputs, label)\n",
        "\n",
        "            running_loss += loss.item()\n",
        "            batch_psnr = psnr(label,outputs)\n",
        "            running_psnr += batch_psnr\n",
        "\n",
        "        outputs = outputs.cpu()\n",
        "        # tensor를 입력받아 이미지 파일로 저장합니다.\n",
        "        save_image(outputs, f'/content/srcnn/MyDrive/data/outputs/{epoch}.png')\n",
        "    \n",
        "    final_loss = running_loss / len(data_dl.dataset)\n",
        "    final_psnr = running_psnr / int(len(val_ds)/data_dl.batch_size)\n",
        "    return final_loss, final_psnr"
      ],
      "execution_count": 48,
      "outputs": []
    },
    {
      "cell_type": "code",
      "metadata": {
        "id": "g88iRusoFa4j"
      },
      "source": [
        "mkdir outputs"
      ],
      "execution_count": 46,
      "outputs": []
    },
    {
      "cell_type": "code",
      "metadata": {
        "colab": {
          "base_uri": "https://localhost:8080/"
        },
        "id": "2ZqhILAaFe2_",
        "outputId": "eeb41cda-2706-495b-bf55-c2c58464fd99"
      },
      "source": [
        "\n",
        "num_epochs = 10\n",
        "\n",
        "# 학습하기\n",
        "train_loss, val_loss = [], []\n",
        "train_psnr, val_psnr = [], []\n",
        "start = time.time()\n",
        "for epoch in range(num_epochs):\n",
        "    print(f'Epoch {epoch + 1} of {num_epochs}')\n",
        "    train_epoch_loss, train_epoch_psnr = train(model, train_dl)\n",
        "    val_epoch_loss, val_epoch_psnr = validate(model, val_dl, epoch)\n",
        "\n",
        "    train_loss.append(train_epoch_loss)\n",
        "    train_psnr.append(train_epoch_psnr)\n",
        "    val_loss.append(val_epoch_loss)\n",
        "    val_psnr.append(val_epoch_psnr)\n",
        "    end = time.time()\n",
        "    print(f'Train PSNR: {train_epoch_psnr:.3f}, Val PSNR: {val_epoch_psnr:.3f}, Time: {end-start:.2f} sec')"
      ],
      "execution_count": 50,
      "outputs": [
        {
          "output_type": "stream",
          "text": [
            "Epoch 1 of 10\n",
            "Train PSNR: 26.963, Val PSNR: 27.143, Time: 82.18 sec\n",
            "Epoch 2 of 10\n",
            "Train PSNR: 27.042, Val PSNR: 27.182, Time: 165.74 sec\n",
            "Epoch 3 of 10\n",
            "Train PSNR: 27.077, Val PSNR: 27.217, Time: 248.15 sec\n",
            "Epoch 4 of 10\n",
            "Train PSNR: 27.108, Val PSNR: 27.214, Time: 336.48 sec\n",
            "Epoch 5 of 10\n",
            "Train PSNR: 27.135, Val PSNR: 27.241, Time: 424.82 sec\n",
            "Epoch 6 of 10\n",
            "Train PSNR: 27.168, Val PSNR: 27.309, Time: 509.39 sec\n",
            "Epoch 7 of 10\n",
            "Train PSNR: 27.196, Val PSNR: 27.307, Time: 599.67 sec\n",
            "Epoch 8 of 10\n",
            "Train PSNR: 27.193, Val PSNR: 27.343, Time: 690.33 sec\n",
            "Epoch 9 of 10\n",
            "Train PSNR: 27.207, Val PSNR: 27.366, Time: 781.72 sec\n",
            "Epoch 10 of 10\n",
            "Train PSNR: 27.225, Val PSNR: 27.381, Time: 873.36 sec\n"
          ],
          "name": "stdout"
        }
      ]
    },
    {
      "cell_type": "code",
      "metadata": {
        "colab": {
          "base_uri": "https://localhost:8080/",
          "height": 881
        },
        "id": "XhwmIVnhKxjG",
        "outputId": "401003f2-5a91-4da5-fec0-c5010465de80"
      },
      "source": [
        "\n",
        "# loss plots\n",
        "plt.figure(figsize=(10, 7))\n",
        "plt.plot(train_loss, color='orange', label='train loss')\n",
        "plt.plot(val_loss, color='red', label='validataion loss')\n",
        "plt.xlabel('Epochs')\n",
        "plt.ylabel('Loss')\n",
        "plt.legend()\n",
        "plt.show()\n",
        "\n",
        "# psnr plots\n",
        "plt.figure(figsize=(10, 7))\n",
        "plt.plot(train_psnr, color='green', label='train PSNR dB')\n",
        "plt.plot(val_psnr, color='blue', label='validataion PSNR dB')\n",
        "plt.xlabel('Epochs')\n",
        "plt.ylabel('PSNR (dB)')\n",
        "plt.legend()\n",
        "plt.show()"
      ],
      "execution_count": 51,
      "outputs": [
        {
          "output_type": "display_data",
          "data": {
            "image/png": "[encoded data removed]",
            "text/plain": [
              "<Figure size 720x504 with 1 Axes>"
            ]
          },
          "metadata": {
            "tags": [],
            "needs_background": "light"
          }
        },
        {
          "output_type": "display_data",
          "data": {
            "image/png": "[encoded data removed]",
            "text/plain": [
              "<Figure size 720x504 with 1 Axes>"
            ]
          },
          "metadata": {
            "tags": [],
            "needs_background": "light"
          }
        }
      ]
    },
    {
      "cell_type": "code",
      "metadata": {
        "colab": {
          "base_uri": "https://localhost:8080/",
          "height": 328
        },
        "id": "KkD90JOLK1EX",
        "outputId": "ed49d73d-6bbd-4e17-c239-a5738e31546a"
      },
      "source": [
        "# 이미지 꺼내기\n",
        "for img, label in val_dl:\n",
        "    img = img[0]\n",
        "    label = label[0]\n",
        "    break\n",
        "\n",
        "# super-resolution\n",
        "model.eval()\n",
        "with torch.no_grad():\n",
        "    img_ = img.unsqueeze(0)\n",
        "    img_ = img_.to(device)\n",
        "    output = model(img_)\n",
        "    output = output.squeeze(0)\n",
        "\n",
        "# 시각화\n",
        "plt.figure(figsize=(15,15))\n",
        "plt.subplot(1,3,1)\n",
        "plt.imshow(to_pil_image(img))\n",
        "plt.title('input')\n",
        "plt.subplot(1,3,2)\n",
        "plt.imshow(to_pil_image(output))\n",
        "plt.title('output')\n",
        "plt.subplot(1,3,3)\n",
        "plt.imshow(to_pil_image(label))\n",
        "plt.title('ground_truth')"
      ],
      "execution_count": 52,
      "outputs": [
        {
          "output_type": "execute_result",
          "data": {
            "text/plain": [
              "Text(0.5, 1.0, 'ground_truth')"
            ]
          },
          "metadata": {
            "tags": []
          },
          "execution_count": 52
        },
        {
          "output_type": "display_data",
          "data": {
            "image/png": "[encoded data removed]",
            "text/plain": [
              "<Figure size 1080x1080 with 3 Axes>"
            ]
          },
          "metadata": {
            "tags": [],
            "needs_background": "light"
          }
        }
      ]
    }
  ]
}